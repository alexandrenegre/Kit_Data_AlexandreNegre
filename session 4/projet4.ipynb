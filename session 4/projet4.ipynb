{
 "cells": [
  {
   "cell_type": "markdown",
   "metadata": {},
   "source": [
    "# Projet 4"
   ]
  },
  {
   "cell_type": "code",
   "execution_count": 1,
   "metadata": {},
   "outputs": [],
   "source": [
    "#imports\n",
    "import requests\n",
    "import pandas as pd\n",
    "from bs4 import BeautifulSoup\n",
    "import re\n",
    "import json\n",
    "import multiprocessing\n",
    "import time"
   ]
  },
  {
   "cell_type": "markdown",
   "metadata": {},
   "source": [
    "Ecrire une fonction `get_prices_from_url()` qui extrait des informations à partir des 2 pages ci-dessous.\n",
    "\n",
    "Exemple `URL_PAGE2` doit retourner :\n",
    "\n",
    "<pre>{'Personal': {'price': '$5', 'storage': '1GB', 'databases': 1},\n",
    "  'Small Business': {'price': '$25', 'storage': '10GB', 'databases': 5},\n",
    "  'Enterprise': {'price': '$45', 'storage': '100GB', 'databases': 25}}\n",
    "</pre>"
   ]
  },
  {
   "cell_type": "code",
   "execution_count": 2,
   "metadata": {},
   "outputs": [],
   "source": [
    "URL_PAGE2 = \"https://kim.fspot.org/cours/page2.html\"\n",
    "URL_PAGE3 = \"https://kim.fspot.org/cours/page3.html\"\n",
    "\n",
    "def get_prices_from_url(url):\n",
    "    prices = {}\n",
    "    page = requests.get(url)\n",
    "    soup = BeautifulSoup(page.content, 'lxml')\n",
    "    \n",
    "    elements_price = soup.find_all(class_=\"pricing-table-header\")\n",
    "    elements_list = soup.find_all(class_=\"pricing-table-list\")\n",
    "\n",
    "    for i in range(len(elements_price)):\n",
    "        category = elements_price[i].h2.text\n",
    "        price = elements_price[i].find(string=re.compile(\"\\$\\d+\")).strip()\n",
    "        storage = elements_list[i].find(string=re.compile(\"storage\"))\n",
    "        storage = re.match(\"\\d+\\wB\", storage)[0]\n",
    "        database = elements_list[i].find(string=re.compile(\"database\"))\n",
    "        database = int(re.match(\"\\d+\", database)[0])\n",
    "        prices[category] = {'price': price, 'storage': storage,\n",
    "                            'databases': database}\n",
    "        \n",
    "    return prices"
   ]
  },
  {
   "cell_type": "code",
   "execution_count": 3,
   "metadata": {},
   "outputs": [
    {
     "data": {
      "text/plain": [
       "{'Personal': {'price': '$5', 'storage': '1GB', 'databases': 1},\n",
       " 'Small Business': {'price': '$25', 'storage': '10GB', 'databases': 5},\n",
       " 'Enterprise': {'price': '$45', 'storage': '100GB', 'databases': 25}}"
      ]
     },
     "execution_count": 3,
     "metadata": {},
     "output_type": "execute_result"
    }
   ],
   "source": [
    "get_prices_from_url(URL_PAGE2)"
   ]
  },
  {
   "cell_type": "code",
   "execution_count": 4,
   "metadata": {},
   "outputs": [
    {
     "data": {
      "text/plain": [
       "{'Personal': {'price': '$5', 'storage': '1GB', 'databases': 1},\n",
       " 'Small Business': {'price': '$25', 'storage': '10GB', 'databases': 5},\n",
       " 'Enterprise': {'price': '$45', 'storage': '100GB', 'databases': 25},\n",
       " 'Privilege': {'price': '$99', 'storage': '1TB', 'databases': 100}}"
      ]
     },
     "execution_count": 4,
     "metadata": {},
     "output_type": "execute_result"
    }
   ],
   "source": [
    "get_prices_from_url(URL_PAGE3)"
   ]
  },
  {
   "cell_type": "markdown",
   "metadata": {},
   "source": [
    "Ecrire une fonction qui extrait des informations sur une bière de beowulf.\n",
    "\n",
    "Exemple d'URL: https://www.beerwulf.com/fr-fr/p/bieres/melusine-bio.33 \n",
    "\n",
    "La fonction doit retourner :\n",
    "<pre>\n",
    "{'name': 'Mélusine Bio', 'note': 70, 'price': 38.99, 'volume': 33}\n",
    "</pre>"
   ]
  },
  {
   "cell_type": "code",
   "execution_count": 5,
   "metadata": {},
   "outputs": [],
   "source": [
    "url = 'https://www.beerwulf.com/fr-fr/p/bieres/melusine-bio.33'\n",
    "\n",
    "def extract_beer_infos(url):\n",
    "    \n",
    "    req = requests.get(url)\n",
    "    content = req.content\n",
    "    soupcontent = BeautifulSoup(content)\n",
    "    title = soupcontent.find('h1').text\n",
    "    note = re.findall('[0-9]+',str(soupcontent.find(attrs={'class':'stars'})))[0]\n",
    "    price = soupcontent.find(attrs={'class':'price'}).text.replace(',','.').replace(' €', '')\n",
    "    volume = re.findall('[0-9][0-9]',soupcontent.find(attrs={'class':'product-subtext'}).text)[0]\n",
    "      \n",
    "    infos = {\n",
    "        'name': title,\n",
    "        'note': int(note),\n",
    "        'price': float(price),\n",
    "        'volume': int(volume),\n",
    "    }\n",
    "\n",
    "    return infos"
   ]
  },
  {
   "cell_type": "code",
   "execution_count": 6,
   "metadata": {},
   "outputs": [
    {
     "data": {
      "text/plain": [
       "{'name': 'Mélusine Bio', 'note': 70, 'price': 38.99, 'volume': 33}"
      ]
     },
     "execution_count": 6,
     "metadata": {},
     "output_type": "execute_result"
    }
   ],
   "source": [
    "extract_beer_infos(url)"
   ]
  },
  {
   "cell_type": "markdown",
   "metadata": {},
   "source": [
    "Cette URL retourne un JSON avec une liste de bières :"
   ]
  },
  {
   "cell_type": "code",
   "execution_count": 7,
   "metadata": {},
   "outputs": [],
   "source": [
    "URL_BEERLIST_FRANCE = \"https://www.beerwulf.com/fr-FR/api/search/searchProducts?country=France&container=Bouteille\""
   ]
  },
  {
   "cell_type": "markdown",
   "metadata": {},
   "source": [
    "Ecrire une fonction qui prend l'argument cet URL retourne les informations sur une liste de bière via l'API de beowulf.\n",
    "\n",
    "Cette fonction doit retourner la liste des informations obtenues par la fonction `extract_beer_infos()` définie ci-dessus.\n",
    "\n",
    "Chercher comment optimiser cette fonction en utilisant multiprocessing.Pool pour paralléliser les accès web.\n",
    "\n",
    "Exemple de retour :\n",
    "\n",
    "<pre>[{'name': 'Gallia East IPA', 'note': 80, 'price': 42.99, 'volume': 33},\n",
    "    {'name': 'La Lager Sans Gluten de Vézelay', 'note': 60, 'price': 38.99, 'volume': 25},\n",
    "    {'name': 'Brasserie De Sutter Brin de Folie', 'note': 70, 'price': 44.99, 'volume': 33},\n",
    "    {'name': 'La Cristal IPA du Mont Blanc', 'note': 70, 'price': 44.99, 'volume': 33},\n",
    "    {'name': 'Mélusine Bio', 'note': 70, 'price': 38.99, 'volume': 33},\n",
    "    {'name': 'La Parisienne Le Titi Parisien', 'note': 70, 'price': 38.99, 'volume': 33},\n",
    "    {'name': 'Gallia Session IPA', 'note': 70, 'price': 42.99, 'volume': 33},\n",
    "    {'name': 'Ninkasi Brut IPA', 'note': 70, 'price': 44.99, 'volume': 33},\n",
    "    {'name': 'Pietra', 'note': 60, 'price': 38.99, 'volume': 33},\n",
    "    {'name': 'Desperados', 'note': 60, 'price': 35.99, 'volume': 33},\n",
    "    {'name': 'Gallia West IPA', 'note': 70, 'price': 42.99, 'volume': 33}]\n",
    "</pre>"
   ]
  },
  {
   "cell_type": "code",
   "execution_count": 12,
   "metadata": {},
   "outputs": [],
   "source": [
    "import json\n",
    "\n",
    "def extract_beer_list_infos(url):\n",
    "    \n",
    "    reponse = requests.get(url)\n",
    "    items = json.loads(reponse.content)['items']\n",
    "    pages = [f\"https://www.beerwulf.com{items[i]['contentReference']}\" for i in range(len(items))]\n",
    "    beers = [extract_beer_infos(page) for page in pages]\n",
    "    \n",
    "    return beers"
   ]
  },
  {
   "cell_type": "code",
   "execution_count": 13,
   "metadata": {},
   "outputs": [
    {
     "data": {
      "text/plain": [
       "[{'name': 'Gallia East IPA', 'note': 80, 'price': 42.99, 'volume': 33},\n",
       " {'name': 'La Lager Sans Gluten de Vézelay',\n",
       "  'note': 60,\n",
       "  'price': 38.99,\n",
       "  'volume': 25},\n",
       " {'name': 'Brasserie De Sutter Brin de Folie',\n",
       "  'note': 70,\n",
       "  'price': 44.99,\n",
       "  'volume': 33},\n",
       " {'name': 'La Cristal IPA du Mont Blanc',\n",
       "  'note': 70,\n",
       "  'price': 44.99,\n",
       "  'volume': 33},\n",
       " {'name': 'Mélusine Bio', 'note': 70, 'price': 38.99, 'volume': 33},\n",
       " {'name': 'La Parisienne Le Titi Parisien',\n",
       "  'note': 70,\n",
       "  'price': 38.99,\n",
       "  'volume': 33},\n",
       " {'name': 'Gallia Session IPA', 'note': 70, 'price': 42.99, 'volume': 33},\n",
       " {'name': 'Ninkasi Brut IPA', 'note': 70, 'price': 44.99, 'volume': 33},\n",
       " {'name': 'Pietra', 'note': 60, 'price': 38.99, 'volume': 33},\n",
       " {'name': 'Desperados', 'note': 60, 'price': 35.99, 'volume': 33},\n",
       " {'name': 'Gallia West IPA', 'note': 70, 'price': 42.99, 'volume': 33}]"
      ]
     },
     "execution_count": 13,
     "metadata": {},
     "output_type": "execute_result"
    }
   ],
   "source": [
    "extract_beer_list_infos(URL_BEERLIST_FRANCE)"
   ]
  },
  {
   "cell_type": "code",
   "execution_count": 16,
   "metadata": {},
   "outputs": [],
   "source": [
    "import unittest\n",
    "\n",
    "class Lesson4Tests(unittest.TestCase):\n",
    "    def test_01_get_prices_from_url_page2(self):\n",
    "        prices = get_prices_from_url(URL_PAGE2)\n",
    "        # We should have found 3 products:\n",
    "        self.assertIsInstance(prices, dict)\n",
    "        self.assertEqual(len(prices), 3)\n",
    "        self.assertIn('Personal', prices)\n",
    "        self.assertIn('Small Business', prices)\n",
    "        self.assertIn('Enterprise', prices)\n",
    "        \n",
    "        personal = prices['Personal']\n",
    "        self.assertIn('price', personal)\n",
    "        self.assertIn('storage', personal)\n",
    "        self.assertIn('databases', personal)\n",
    "        self.assertEqual(personal['price'], '$5')\n",
    "        self.assertEqual(personal['storage'], '1GB')\n",
    "        self.assertEqual(personal['databases'], 1)\n",
    "        \n",
    "    def test_02_get_prices_from_url_page3(self):\n",
    "        prices = get_prices_from_url(URL_PAGE3)\n",
    "        self.assertIsInstance(prices, dict)\n",
    "        self.assertEqual(len(prices), 4)\n",
    "        self.assertEqual(\n",
    "            prices['Privilege'],\n",
    "            {'databases': 100, 'price': '$99', 'storage': '1TB'}\n",
    "        )\n",
    "    \n",
    "    def test_03_extract_beer_list_infos(self):\n",
    "        infos = extract_beer_list_infos(URL_BEERLIST_FRANCE)\n",
    "        # We should have 11 French beers:\n",
    "        self.assertIsInstance(infos, list)\n",
    "        self.assertEqual(len(infos), 11)\n",
    "        # All of them are 25cl or 33cl:\n",
    "        for beer in infos:\n",
    "            self.assertIn(beer['volume'], [25, 33])\n",
    "\n",
    "            \n",
    "def run_tests():\n",
    "    test_suite = unittest.makeSuite(Lesson4Tests)\n",
    "    runner = unittest.TextTestRunner(verbosity=2)\n",
    "    runner.run(test_suite)"
   ]
  },
  {
   "cell_type": "code",
   "execution_count": 17,
   "metadata": {},
   "outputs": [
    {
     "name": "stderr",
     "output_type": "stream",
     "text": [
      "test_01_get_prices_from_url_page2 (__main__.Lesson4Tests) ... ok\n",
      "test_02_get_prices_from_url_page3 (__main__.Lesson4Tests) ... ok\n",
      "test_03_extract_beer_list_infos (__main__.Lesson4Tests) ... ok\n",
      "\n",
      "----------------------------------------------------------------------\n",
      "Ran 3 tests in 2.137s\n",
      "\n",
      "OK\n"
     ]
    }
   ],
   "source": [
    "if __name__ == '__main__':\n",
    "    run_tests()"
   ]
  },
  {
   "cell_type": "code",
   "execution_count": null,
   "metadata": {},
   "outputs": [],
   "source": []
  }
 ],
 "metadata": {
  "kernelspec": {
   "display_name": "Python 3",
   "language": "python",
   "name": "python3"
  },
  "language_info": {
   "codemirror_mode": {
    "name": "ipython",
    "version": 3
   },
   "file_extension": ".py",
   "mimetype": "text/x-python",
   "name": "python",
   "nbconvert_exporter": "python",
   "pygments_lexer": "ipython3",
   "version": "3.8.8"
  }
 },
 "nbformat": 4,
 "nbformat_minor": 4
}
